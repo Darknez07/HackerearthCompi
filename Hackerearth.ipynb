{
 "cells": [
  {
   "cell_type": "code",
   "execution_count": 17,
   "metadata": {},
   "outputs": [],
   "source": [
    "import pandas as pd\n",
    "import numpy  as np\n",
    "import matplotlib.pyplot as plt\n",
    "from sklearn.preprocessing import LabelBinarizer\n",
    "from sklearn.impute import KNNImputer\n",
    "from sklearn.preprocessing import StandardScaler\n",
    "from sklearn.metrics import plot_confusion_matrix, confusion_matrix\n",
    "from sklearn.tree import DecisionTreeClassifier\n",
    "from sklearn.model_selection import train_test_split\n",
    "from sklearn.ensemble import RandomForestClassifier\n",
    "from xgboost import XGBClassifier\n",
    "from sklearn.naive_bayes import GaussianNB\n",
    "import xgboost as xgb\n",
    "from sklearn.model_selection import GridSearchCV\n",
    "from sklearn.svm import SVC"
   ]
  },
  {
   "cell_type": "code",
   "execution_count": 187,
   "metadata": {},
   "outputs": [],
   "source": [
    "training = pd.read_csv('Dataset/train.csv')\n",
    "testing = pd.read_csv('Dataset/test.csv')"
   ]
  },
  {
   "cell_type": "code",
   "execution_count": 188,
   "metadata": {},
   "outputs": [],
   "source": [
    "def preprocess_data(data, y, cols):\n",
    "    data['issue_date'] = pd.to_datetime(data['issue_date'], format='%Y-%m-%d %H:%M:%S')\n",
    "    data['listing_date'] = pd.to_datetime(data['listing_date'], format='%Y-%m-%d %H:%M:%S')\n",
    "    data['issue_date'] = data.issue_date.values.astype(np.int64) // 10 **9\n",
    "    data['listing_date'] = data.listing_date.values.astype(np.int64) // 10**9\n",
    "    imputed = data.iloc[:,1:-2]\n",
    "    merger = pd.DataFrame(y,columns=cols)\n",
    "    s1 = imputed.iloc[:,:3]\n",
    "    s2 = imputed.iloc[:,4:]\n",
    "    middle = s1.join(merger)\n",
    "    final = middle.join(s2)\n",
    "    Knn = KNNImputer(missing_values=np.float64(np.nan),n_neighbors=5)\n",
    "    final['condition'] = pd.DataFrame(Knn.fit_transform(final.condition.values.reshape(-1, 1)))\n",
    "    y_train = data.iloc[:,-2:]\n",
    "    x_train = final\n",
    "    return x_train, y_train"
   ]
  },
  {
   "cell_type": "code",
   "execution_count": 20,
   "metadata": {},
   "outputs": [],
   "source": [
    "def scaling(x_train, x_test):\n",
    "    Scaler = StandardScaler()\n",
    "    x_train = Scaler.fit_transform(x_train)\n",
    "    x_test = Scaler.transform(x_test)\n",
    "    return x_train, x_test"
   ]
  },
  {
   "cell_type": "code",
   "execution_count": 21,
   "metadata": {},
   "outputs": [],
   "source": [
    "def plot_model(model, x_test, y_test):\n",
    "    plot_confusion_matrix(model, x_test,y_test,cmap='Blues',values_format='.5g')"
   ]
  },
  {
   "cell_type": "code",
   "execution_count": 22,
   "metadata": {},
   "outputs": [],
   "source": [
    "def models_for_first(model, x_train, y_train, x_test, y_test):\n",
    "    accuracy = []\n",
    "    for i in range(2):\n",
    "        model.fit(x_train, y_train.iloc[:, i])\n",
    "        y_pred = model.predict(x_test)\n",
    "        mat = confusion_matrix(y_test.iloc[:, i], y_pred)\n",
    "        acc = sum(mat.diagonal())/sum(sum(mat))\n",
    "        accuracy.append(acc)\n",
    "        plot_model(model, x_test, y_test.iloc[:, i])\n",
    "    return accuracy,model"
   ]
  },
  {
   "cell_type": "code",
   "execution_count": 83,
   "metadata": {},
   "outputs": [],
   "source": [
    "def guess(model,x_train, y_train,final_test):\n",
    "    y_pred= []\n",
    "    for i in range(2):\n",
    "        model.fit(x_train, y_train.iloc[:, i])\n",
    "        y_pred.append(model.predict(final_test))\n",
    "    return y_pred"
   ]
  },
  {
   "cell_type": "code",
   "execution_count": 153,
   "metadata": {},
   "outputs": [],
   "source": [
    "def finalize(predictions, testing, num):\n",
    "    predictions[0].astype(np.int64)\n",
    "    predictions.insert(0,testing.iloc[:, 0])\n",
    "    finals = pd.DataFrame(predictions).T\n",
    "    finals.columns = [finals.columns[0],training.columns[-2], training.columns[-1]]\n",
    "    finals = finals.set_index(finals.columns[0])\n",
    "    finals.to_csv('Result{}.csv'.format(num))"
   ]
  },
  {
   "cell_type": "code",
   "execution_count": 23,
   "metadata": {},
   "outputs": [],
   "source": [
    "Bun = LabelBinarizer()\n",
    "y = Bun.fit_transform(training.color_type)\n",
    "y_t = Bun.transform(testing.color_type)"
   ]
  },
  {
   "cell_type": "code",
   "execution_count": 24,
   "metadata": {},
   "outputs": [],
   "source": [
    "cols = training.color_type.unique()"
   ]
  },
  {
   "cell_type": "code",
   "execution_count": 33,
   "metadata": {},
   "outputs": [],
   "source": [
    "svc = SVC(C=3)"
   ]
  },
  {
   "cell_type": "code",
   "execution_count": 31,
   "metadata": {},
   "outputs": [],
   "source": [
    "# models_for_first(svc, scaled_x_train_2,y_train_2, scaled_x_test_2,y_test_2)"
   ]
  },
  {
   "cell_type": "code",
   "execution_count": 253,
   "metadata": {},
   "outputs": [],
   "source": [
    "xgbc = XGBClassifier(max_depth=5, n_estimators=600,nthread=18,base_score=0.602)"
   ]
  },
  {
   "cell_type": "code",
   "execution_count": 45,
   "metadata": {},
   "outputs": [],
   "source": [
    "from sklearn.ensemble import GradientBoostingClassifier as gdf"
   ]
  },
  {
   "cell_type": "code",
   "execution_count": 258,
   "metadata": {},
   "outputs": [],
   "source": [
    "md = gdf(n_estimators=900,max_depth=5,learning_rate=0.001,loss='')"
   ]
  },
  {
   "cell_type": "code",
   "execution_count": 52,
   "metadata": {},
   "outputs": [],
   "source": [
    "from sklearn.ensemble import AdaBoostClassifier as ada"
   ]
  },
  {
   "cell_type": "code",
   "execution_count": 255,
   "metadata": {},
   "outputs": [],
   "source": [
    "forest = RandomForestClassifier(n_estimators=800,n_jobs=-1,max_depth=5)"
   ]
  },
  {
   "cell_type": "code",
   "execution_count": 256,
   "metadata": {},
   "outputs": [],
   "source": [
    "clf = ada(base_estimator=forest,n_estimators=200,algorithm='SAMME.R')"
   ]
  },
  {
   "cell_type": "code",
   "execution_count": 174,
   "metadata": {},
   "outputs": [],
   "source": [
    "x_test,y_test = preprocess_data(testing, y_t, cols)"
   ]
  },
  {
   "cell_type": "code",
   "execution_count": 85,
   "metadata": {},
   "outputs": [],
   "source": [
    "final_test = x_test.join(y_test)"
   ]
  },
  {
   "cell_type": "code",
   "execution_count": 155,
   "metadata": {},
   "outputs": [],
   "source": [
    "finalize(guess(md, scaled_X, y_train ,scale_x_test), testing, 2)"
   ]
  },
  {
   "cell_type": "code",
   "execution_count": 189,
   "metadata": {},
   "outputs": [],
   "source": [
    "x_train, y_train = preprocess_data(training,y, cols)"
   ]
  },
  {
   "cell_type": "code",
   "execution_count": 190,
   "metadata": {},
   "outputs": [
    {
     "output_type": "execute_result",
     "data": {
      "text/plain": "   issue_date  listing_date  condition  Brown Tabby  White  Brown  Black  Red  \\\n0  1468108800    1474475100    2.00000            0      0      0      0    0   \n1  1384992000    1545932820    1.00000            0      0      0      0    0   \n2  1411862400    1476865440    0.88339            0      0      0      0    0   \n3  1483142400    1548441000    1.00000            0      0      0      0    0   \n4  1506556800    1511084280    2.00000            0      0      1      0    0   \n\n   Tricolor  Calico  ...  Agouti  Chocolate Point  Liver Tick  Pink  \\\n0         0       0  ...       0                0           0     0   \n1         0       0  ...       0                0           0     1   \n2         0       0  ...       0                0           0     0   \n3         0       0  ...       0                0           0     1   \n4         0       0  ...       0                0           0     0   \n\n   Black Tiger  Silver Lynx Point  length(m)  height(cm)  X1  X2  \n0            0                  0       0.80        7.78  13   9  \n1            0                  0       0.72       14.19  13   9  \n2            0                  0       0.15       40.90  15   4  \n3            0                  0       0.62       17.82   0   1  \n4            0                  0       0.50       11.06  18   4  \n\n[5 rows x 63 columns]",
      "text/html": "<div>\n<style scoped>\n    .dataframe tbody tr th:only-of-type {\n        vertical-align: middle;\n    }\n\n    .dataframe tbody tr th {\n        vertical-align: top;\n    }\n\n    .dataframe thead th {\n        text-align: right;\n    }\n</style>\n<table border=\"1\" class=\"dataframe\">\n  <thead>\n    <tr style=\"text-align: right;\">\n      <th></th>\n      <th>issue_date</th>\n      <th>listing_date</th>\n      <th>condition</th>\n      <th>Brown Tabby</th>\n      <th>White</th>\n      <th>Brown</th>\n      <th>Black</th>\n      <th>Red</th>\n      <th>Tricolor</th>\n      <th>Calico</th>\n      <th>...</th>\n      <th>Agouti</th>\n      <th>Chocolate Point</th>\n      <th>Liver Tick</th>\n      <th>Pink</th>\n      <th>Black Tiger</th>\n      <th>Silver Lynx Point</th>\n      <th>length(m)</th>\n      <th>height(cm)</th>\n      <th>X1</th>\n      <th>X2</th>\n    </tr>\n  </thead>\n  <tbody>\n    <tr>\n      <th>0</th>\n      <td>1468108800</td>\n      <td>1474475100</td>\n      <td>2.00000</td>\n      <td>0</td>\n      <td>0</td>\n      <td>0</td>\n      <td>0</td>\n      <td>0</td>\n      <td>0</td>\n      <td>0</td>\n      <td>...</td>\n      <td>0</td>\n      <td>0</td>\n      <td>0</td>\n      <td>0</td>\n      <td>0</td>\n      <td>0</td>\n      <td>0.80</td>\n      <td>7.78</td>\n      <td>13</td>\n      <td>9</td>\n    </tr>\n    <tr>\n      <th>1</th>\n      <td>1384992000</td>\n      <td>1545932820</td>\n      <td>1.00000</td>\n      <td>0</td>\n      <td>0</td>\n      <td>0</td>\n      <td>0</td>\n      <td>0</td>\n      <td>0</td>\n      <td>0</td>\n      <td>...</td>\n      <td>0</td>\n      <td>0</td>\n      <td>0</td>\n      <td>1</td>\n      <td>0</td>\n      <td>0</td>\n      <td>0.72</td>\n      <td>14.19</td>\n      <td>13</td>\n      <td>9</td>\n    </tr>\n    <tr>\n      <th>2</th>\n      <td>1411862400</td>\n      <td>1476865440</td>\n      <td>0.88339</td>\n      <td>0</td>\n      <td>0</td>\n      <td>0</td>\n      <td>0</td>\n      <td>0</td>\n      <td>0</td>\n      <td>0</td>\n      <td>...</td>\n      <td>0</td>\n      <td>0</td>\n      <td>0</td>\n      <td>0</td>\n      <td>0</td>\n      <td>0</td>\n      <td>0.15</td>\n      <td>40.90</td>\n      <td>15</td>\n      <td>4</td>\n    </tr>\n    <tr>\n      <th>3</th>\n      <td>1483142400</td>\n      <td>1548441000</td>\n      <td>1.00000</td>\n      <td>0</td>\n      <td>0</td>\n      <td>0</td>\n      <td>0</td>\n      <td>0</td>\n      <td>0</td>\n      <td>0</td>\n      <td>...</td>\n      <td>0</td>\n      <td>0</td>\n      <td>0</td>\n      <td>1</td>\n      <td>0</td>\n      <td>0</td>\n      <td>0.62</td>\n      <td>17.82</td>\n      <td>0</td>\n      <td>1</td>\n    </tr>\n    <tr>\n      <th>4</th>\n      <td>1506556800</td>\n      <td>1511084280</td>\n      <td>2.00000</td>\n      <td>0</td>\n      <td>0</td>\n      <td>1</td>\n      <td>0</td>\n      <td>0</td>\n      <td>0</td>\n      <td>0</td>\n      <td>...</td>\n      <td>0</td>\n      <td>0</td>\n      <td>0</td>\n      <td>0</td>\n      <td>0</td>\n      <td>0</td>\n      <td>0.50</td>\n      <td>11.06</td>\n      <td>18</td>\n      <td>4</td>\n    </tr>\n  </tbody>\n</table>\n<p>5 rows × 63 columns</p>\n</div>"
     },
     "metadata": {},
     "execution_count": 190
    }
   ],
   "source": [
    "x_train.head()"
   ]
  },
  {
   "cell_type": "code",
   "execution_count": 191,
   "metadata": {},
   "outputs": [],
   "source": [
    "x_test, y_test = preprocess_data(testing, y_t, cols)"
   ]
  },
  {
   "cell_type": "code",
   "execution_count": 192,
   "metadata": {},
   "outputs": [
    {
     "output_type": "execute_result",
     "data": {
      "text/plain": "   issue_date  listing_date  condition  Brown Tabby  White  Brown  Black  Red  \\\n0  1124236800    1504798500        0.0            0      0      1      0    0   \n1  1542240000    1557336240        1.0            0      0      0      0    0   \n2  1349913600    1522687860        1.0            0      0      1      0    0   \n3  1423785600    1522999500        1.0            0      0      1      0    0   \n4  1484697600    1524750120        1.0            0      0      0      0    0   \n\n   Tricolor  Calico  ...  Brown Tiger  Liver  Agouti  Chocolate Point  \\\n0         0       0  ...            0      0       0                0   \n1         0       0  ...            0      0       0                0   \n2         0       0  ...            0      0       0                0   \n3         0       0  ...            0      0       0                0   \n4         0       0  ...            0      0       0                0   \n\n   Liver Tick  Pink  Black Tiger  Silver Lynx Point  length(m)  height(cm)  \n0           0     0            0                  0       0.87       42.73  \n1           0     0            0                  0       0.06        6.71  \n2           0     0            0                  0       0.24       41.21  \n3           0     0            0                  0       0.29        8.46  \n4           0     0            0                  0       0.71       30.92  \n\n[5 rows x 61 columns]",
      "text/html": "<div>\n<style scoped>\n    .dataframe tbody tr th:only-of-type {\n        vertical-align: middle;\n    }\n\n    .dataframe tbody tr th {\n        vertical-align: top;\n    }\n\n    .dataframe thead th {\n        text-align: right;\n    }\n</style>\n<table border=\"1\" class=\"dataframe\">\n  <thead>\n    <tr style=\"text-align: right;\">\n      <th></th>\n      <th>issue_date</th>\n      <th>listing_date</th>\n      <th>condition</th>\n      <th>Brown Tabby</th>\n      <th>White</th>\n      <th>Brown</th>\n      <th>Black</th>\n      <th>Red</th>\n      <th>Tricolor</th>\n      <th>Calico</th>\n      <th>...</th>\n      <th>Brown Tiger</th>\n      <th>Liver</th>\n      <th>Agouti</th>\n      <th>Chocolate Point</th>\n      <th>Liver Tick</th>\n      <th>Pink</th>\n      <th>Black Tiger</th>\n      <th>Silver Lynx Point</th>\n      <th>length(m)</th>\n      <th>height(cm)</th>\n    </tr>\n  </thead>\n  <tbody>\n    <tr>\n      <th>0</th>\n      <td>1124236800</td>\n      <td>1504798500</td>\n      <td>0.0</td>\n      <td>0</td>\n      <td>0</td>\n      <td>1</td>\n      <td>0</td>\n      <td>0</td>\n      <td>0</td>\n      <td>0</td>\n      <td>...</td>\n      <td>0</td>\n      <td>0</td>\n      <td>0</td>\n      <td>0</td>\n      <td>0</td>\n      <td>0</td>\n      <td>0</td>\n      <td>0</td>\n      <td>0.87</td>\n      <td>42.73</td>\n    </tr>\n    <tr>\n      <th>1</th>\n      <td>1542240000</td>\n      <td>1557336240</td>\n      <td>1.0</td>\n      <td>0</td>\n      <td>0</td>\n      <td>0</td>\n      <td>0</td>\n      <td>0</td>\n      <td>0</td>\n      <td>0</td>\n      <td>...</td>\n      <td>0</td>\n      <td>0</td>\n      <td>0</td>\n      <td>0</td>\n      <td>0</td>\n      <td>0</td>\n      <td>0</td>\n      <td>0</td>\n      <td>0.06</td>\n      <td>6.71</td>\n    </tr>\n    <tr>\n      <th>2</th>\n      <td>1349913600</td>\n      <td>1522687860</td>\n      <td>1.0</td>\n      <td>0</td>\n      <td>0</td>\n      <td>1</td>\n      <td>0</td>\n      <td>0</td>\n      <td>0</td>\n      <td>0</td>\n      <td>...</td>\n      <td>0</td>\n      <td>0</td>\n      <td>0</td>\n      <td>0</td>\n      <td>0</td>\n      <td>0</td>\n      <td>0</td>\n      <td>0</td>\n      <td>0.24</td>\n      <td>41.21</td>\n    </tr>\n    <tr>\n      <th>3</th>\n      <td>1423785600</td>\n      <td>1522999500</td>\n      <td>1.0</td>\n      <td>0</td>\n      <td>0</td>\n      <td>1</td>\n      <td>0</td>\n      <td>0</td>\n      <td>0</td>\n      <td>0</td>\n      <td>...</td>\n      <td>0</td>\n      <td>0</td>\n      <td>0</td>\n      <td>0</td>\n      <td>0</td>\n      <td>0</td>\n      <td>0</td>\n      <td>0</td>\n      <td>0.29</td>\n      <td>8.46</td>\n    </tr>\n    <tr>\n      <th>4</th>\n      <td>1484697600</td>\n      <td>1524750120</td>\n      <td>1.0</td>\n      <td>0</td>\n      <td>0</td>\n      <td>0</td>\n      <td>0</td>\n      <td>0</td>\n      <td>0</td>\n      <td>0</td>\n      <td>...</td>\n      <td>0</td>\n      <td>0</td>\n      <td>0</td>\n      <td>0</td>\n      <td>0</td>\n      <td>0</td>\n      <td>0</td>\n      <td>0</td>\n      <td>0.71</td>\n      <td>30.92</td>\n    </tr>\n  </tbody>\n</table>\n<p>5 rows × 61 columns</p>\n</div>"
     },
     "metadata": {},
     "execution_count": 192
    }
   ],
   "source": [
    "x_test.head()"
   ]
  },
  {
   "cell_type": "code",
   "execution_count": 194,
   "metadata": {},
   "outputs": [],
   "source": [
    "final_test = x_test.join(y_test)"
   ]
  },
  {
   "cell_type": "code",
   "execution_count": 198,
   "metadata": {},
   "outputs": [],
   "source": [
    "finalize(guess(xgbc,x_train,y_train,final_test),testing,3)"
   ]
  },
  {
   "cell_type": "code",
   "execution_count": 199,
   "metadata": {},
   "outputs": [],
   "source": [
    "finalize(guess(md,x_train, y_train, final_test), testing, 4)"
   ]
  },
  {
   "cell_type": "code",
   "execution_count": 204,
   "metadata": {},
   "outputs": [],
   "source": [
    "scaled_X, scaled_x_test = scaling(x_train, final_test)"
   ]
  },
  {
   "cell_type": "code",
   "execution_count": 260,
   "metadata": {},
   "outputs": [],
   "source": [
    "finalize(guess(md, x_train,y_train,final_test),testing, 22)"
   ]
  },
  {
   "cell_type": "code",
   "execution_count": 236,
   "metadata": {},
   "outputs": [
    {
     "output_type": "execute_result",
     "data": {
      "text/plain": "0.5793062070470165"
     },
     "metadata": {},
     "execution_count": 236
    }
   ],
   "source": [
    "# 10621/18334"
   ]
  }
 ],
 "metadata": {
  "kernelspec": {
   "display_name": "Python 3.6.10 64-bit ('base': conda)",
   "language": "python",
   "name": "python361064bitbaseconda149930fab99d442db0faa31276fc46d7"
  },
  "language_info": {
   "codemirror_mode": {
    "name": "ipython",
    "version": 3
   },
   "file_extension": ".py",
   "mimetype": "text/x-python",
   "name": "python",
   "nbconvert_exporter": "python",
   "pygments_lexer": "ipython3",
   "version": "3.6.10-final"
  }
 },
 "nbformat": 4,
 "nbformat_minor": 4
}